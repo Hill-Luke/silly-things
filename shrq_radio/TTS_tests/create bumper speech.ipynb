{
 "cells": [
  {
   "cell_type": "code",
   "execution_count": 4,
   "id": "08db6635",
   "metadata": {},
   "outputs": [],
   "source": [
    "import datetime\n",
    "import random\n",
    "import os\n",
    "import json\n",
    "import re\n",
    "import requests\n",
    "import asyncio\n",
    "from pathlib import Path\n",
    "from pydub.utils import which\n",
    "from mutagen.easyid3 import EasyID3\n",
    "from mutagen.mp3 import MP3\n",
    "import edge_tts\n",
    "import pygame\n",
    "import nest_asyncio\n",
    "import ollama\n",
    "from pydub import AudioSegment\n",
    "from edge_tts.exceptions import NoAudioReceived\n",
    "\n",
    "BASE_DIR = \"/Users/lukeofthehill/repos/silly-things/shrq_radio/\"\n",
    "MUSIC_DIR = BASE_DIR + \"data/music\"\n",
    "NPR_DIR = BASE_DIR + \"data/npr_ntnl\"\n",
    "TPR_DIR = BASE_DIR + \"data/tpr_local\"\n",
    "RESPONSES_DIR = BASE_DIR + \"data/dj_responses\"\n",
    "OUTPUT_DIR = BASE_DIR + \"output\""
   ]
  },
  {
   "cell_type": "code",
   "execution_count": 5,
   "id": "9dea8290",
   "metadata": {},
   "outputs": [],
   "source": [
    "playlist=[\"/Users/lukeofthehill/repos/silly-things/shrq_radio/TTS_tests/Bumper_SHRQ_04.mp3\",\n",
    "            \"/Users/lukeofthehill/repos/silly-things/shrq_radio/TTS_tests/tagline.mp3\"]"
   ]
  },
  {
   "cell_type": "code",
   "execution_count": 9,
   "id": "e72abc6e",
   "metadata": {},
   "outputs": [
    {
     "data": {
      "text/plain": [
       "<_io.BufferedRandom name='/Users/lukeofthehill/repos/silly-things/shrq_radio/TTS_tests/final_mix.mp3'>"
      ]
     },
     "execution_count": 9,
     "metadata": {},
     "output_type": "execute_result"
    }
   ],
   "source": [
    "final_mix = AudioSegment.silent(duration=0)\n",
    "for idx, track in enumerate(playlist):\n",
    "    final_mix += AudioSegment.from_file(track) + AudioSegment.silent(duration=200)\n",
    "\n",
    "out_path = \"/Users/lukeofthehill/repos/silly-things/shrq_radio/TTS_tests/final_mix.mp3\"\n",
    "final_mix.export(out_path, format=\"mp3\")"
   ]
  },
  {
   "cell_type": "code",
   "execution_count": null,
   "id": "4089f916",
   "metadata": {},
   "outputs": [],
   "source": []
  }
 ],
 "metadata": {
  "kernelspec": {
   "display_name": ".venv",
   "language": "python",
   "name": "python3"
  },
  "language_info": {
   "codemirror_mode": {
    "name": "ipython",
    "version": 3
   },
   "file_extension": ".py",
   "mimetype": "text/x-python",
   "name": "python",
   "nbconvert_exporter": "python",
   "pygments_lexer": "ipython3",
   "version": "3.12.10"
  }
 },
 "nbformat": 4,
 "nbformat_minor": 5
}
